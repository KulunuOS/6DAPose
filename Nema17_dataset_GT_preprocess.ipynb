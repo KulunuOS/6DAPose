{
 "cells": [
  {
   "cell_type": "code",
   "execution_count": 40,
   "metadata": {},
   "outputs": [
    {
     "name": "stdout",
     "output_type": "stream",
     "text": [
      "Nema17_reducer_dataset/model_meshes/housing.ply\n",
      "Nema17_reducer_dataset/model_meshes/sun_gear.ply\n",
      "Nema17_reducer_dataset/model_meshes/stage_2.ply\n",
      "Nema17_reducer_dataset/model_meshes/planet.ply\n",
      "Nema17_reducer_dataset/model_meshes/carrier.ply\n",
      "Nema17_reducer_dataset/model_meshes/stage_3.ply\n",
      "Nema17_reducer_dataset/model_meshes/Nema17.ply\n",
      "Nema17_reducer_dataset/model_meshes/cover.ply\n",
      "Nema17_reducer_dataset/model_meshes/stage_4.ply\n",
      "{'housing.ply': TriangleMesh with 2314 points and 4708 triangles., 'sun_gear.ply': TriangleMesh with 660 points and 1332 triangles., 'stage_2.ply': TriangleMesh with 2344 points and 4711 triangles., 'planet.ply': TriangleMesh with 476 points and 952 triangles., 'carrier.ply': TriangleMesh with 408 points and 828 triangles., 'stage_3.ply': TriangleMesh with 4658 points and 9419 triangles., 'Nema17.ply': TriangleMesh with 1684 points and 3379 triangles., 'cover.ply': TriangleMesh with 468 points and 952 triangles., 'stage_4.ply': TriangleMesh with 5534 points and 11199 triangles.}\n"
     ]
    }
   ],
   "source": [
    "import matplotlib.pyplot as plt\n",
    "import cv2\n",
    "import open3d as o3d\n",
    "#from open3d.web_visualizer import draw\n",
    "from scipy.spatial.transform import Rotation as Rot\n",
    "import numpy as np\n",
    "import os\n",
    "from bop_toolkit_lib import config\n",
    "from bop_toolkit_lib import dataset_params\n",
    "from bop_toolkit_lib import inout\n",
    "from bop_toolkit_lib import misc\n",
    "import copy\n",
    "\n",
    "dataset = \"Nema17_reducer_dataset\"\n",
    "mesh_directory = dataset+'/model_meshes'\n",
    "mesh_list = {}\n",
    "mesh_path_list =[]\n",
    "\n",
    "for filename in os.listdir(mesh_directory):\n",
    "    f = os.path.join(mesh_directory, filename)\n",
    "    mesh_path_list.append(f)\n",
    "    mesh = o3d.io.read_triangle_mesh(f)\n",
    "    mesh_list[str(os.path.basename(f))]= mesh\n",
    "    # checking if it is a file\n",
    "    if os.path.isfile(f):\n",
    "        print(f)\n",
    "\n",
    "print(mesh_list)\n",
    "\n",
    "assembling_order = ['Nema17.ply','sun_gear.ply','housing.ply','carrier.ply','cover.ply']"
   ]
  },
  {
   "cell_type": "code",
   "execution_count": 81,
   "metadata": {},
   "outputs": [],
   "source": [
    "base_frame = o3d.geometry.TriangleMesh.create_coordinate_frame(size=0.01, origin=[0, 0, 0])\n",
    "transformations = {}\n",
    "\n",
    "def adjust_mesh(name,color,R=[0,0,0],t=[0,0,0]):\n",
    "    mesh = mesh_list[name]\n",
    "    T_or = Rot.from_euler('zyx',R).as_matrix()\n",
    "    T_pos = np.array(t).reshape(3,1)\n",
    "    T= np.concatenate((T_or, T_pos), axis = 1) \n",
    "    T= np.vstack((T, [0,0,0,1] ))\n",
    "    transformations[name] = T\n",
    "    mesh = copy.deepcopy(mesh).transform(T)\n",
    "    mesh.paint_uniform_color(color)\n",
    "    \n",
    "    return mesh\n",
    "\n",
    "Nema17 = adjust_mesh(name='Nema17.ply', color=[1, 0.706, 0])\n",
    "sun_gear  = adjust_mesh(name='sun_gear.ply', color=[0.5, 0.106, 0],t=[0.0,0.0,0.0585])\n",
    "housing = adjust_mesh(name='housing.ply',color=[0.7, 0.806, 0],t=[0,0,0.0505])\n",
    "carrier = adjust_mesh(name='carrier.ply',color=[0.9, 0.406, 0],R =[0.0, 0.0, 0],t=[0.00, 0,0.0775])\n",
    "cover = adjust_mesh(name='cover.ply',color=[0.9, 0.406, 0],R =[0.0, 0.0, 0],t=[0.00, 0,0.0845])\n",
    "\n",
    "\n",
    "o3d.visualization.draw_geometries([Nema17, sun_gear, housing,carrier, cover])"
   ]
  },
  {
   "cell_type": "code",
   "execution_count": 85,
   "metadata": {},
   "outputs": [
    {
     "data": {
      "text/plain": [
       "True"
      ]
     },
     "execution_count": 85,
     "metadata": {},
     "output_type": "execute_result"
    }
   ],
   "source": [
    "cm_1 = Nema17 + sun_gear\n",
    "o3d.io.write_triangle_mesh(mesh_directory+\"/stage_2.ply\", cm_1)\n",
    "\n",
    "cm_2 = cm_1 + housing\n",
    "o3d.io.write_triangle_mesh(mesh_directory+\"/stage_3.ply\", cm_2)\n",
    "\n",
    "cm_3 = cm_2 + carrier\n",
    "o3d.io.write_triangle_mesh(mesh_directory+\"/stage_4.ply\", cm_3)\n",
    "\n",
    "cm_4 = cm_3 + cover\n",
    "o3d.io.write_triangle_mesh(mesh_directory+\"/stage_4.ply\", cm_4)"
   ]
  },
  {
   "cell_type": "code",
   "execution_count": 86,
   "metadata": {},
   "outputs": [],
   "source": [
    "# generate assembly_poses_gt.json\n",
    "import json\n",
    "with open(os.path.join(dataset, \"gt_assembly_poses.json\"), \"w\") as outfile:\n",
    "    assembly_poses ={}\n",
    "    for i, name in enumerate(assembling_order):\n",
    "        obj_data = {\n",
    "        \"obj_id\" : i,\n",
    "        \"obj_name\": name,    \n",
    "        \"R_wrt_bottom_casing\" : np.ravel(np.reshape(transformations[name][0:3,0:3],(1,9))).tolist(),\n",
    "        \"t_wrt_bottom_casing\" : (transformations[name][0:3,3]*1000).tolist()\n",
    "        }\n",
    "        assembly_poses[i]= obj_data\n",
    "    json.dump(assembly_poses, outfile)"
   ]
  },
  {
   "cell_type": "code",
   "execution_count": 87,
   "metadata": {},
   "outputs": [
    {
     "name": "stdout",
     "output_type": "stream",
     "text": [
      "8/18|05:48:12: Processing model of object Nema17.ply...\n",
      "8/18|05:48:12: Processing model of object sun_gear.ply...\n",
      "8/18|05:48:12: Processing model of object housing.ply...\n",
      "8/18|05:48:12: Processing model of object carrier.ply...\n",
      "8/18|05:48:12: Processing model of object cover.ply...\n"
     ]
    }
   ],
   "source": [
    "# create models info json for error calculations\n",
    "\n",
    "models_info = {}\n",
    "for obj_id, name in enumerate(assembling_order):\n",
    "    \n",
    "    misc.log('Processing model of object {}...'.format(name))\n",
    "    \n",
    "    model = inout.load_ply(mesh_directory+'/'+name)\n",
    "    ref_pt = model['pts'].min(axis=0).flatten()\n",
    "    size =(model['pts'].max(axis=0) - ref_pt)\n",
    "\n",
    "    # Calculated diameter.\n",
    "    diameter = misc.calc_pts_diameter(model['pts'])\n",
    "\n",
    "    models_info[obj_id] = {\n",
    "        'min_x': ref_pt[0], 'min_y': ref_pt[1], 'min_z': ref_pt[2],\n",
    "        'size_x': size[0], 'size_y': size[1], 'size_z': size[2],\n",
    "        'diameter': diameter\n",
    "    }\n",
    "\n",
    "\n",
    "# Save the calculated info about the object models.\n",
    "inout.save_json(dataset+'/models_info.json', models_info)"
   ]
  },
  {
   "cell_type": "code",
   "execution_count": null,
   "metadata": {},
   "outputs": [],
   "source": []
  }
 ],
 "metadata": {
  "kernelspec": {
   "display_name": "singledemo",
   "language": "python",
   "name": "singledemo"
  },
  "language_info": {
   "codemirror_mode": {
    "name": "ipython",
    "version": 3
   },
   "file_extension": ".py",
   "mimetype": "text/x-python",
   "name": "python",
   "nbconvert_exporter": "python",
   "pygments_lexer": "ipython3",
   "version": "3.8.13"
  }
 },
 "nbformat": 4,
 "nbformat_minor": 4
}
