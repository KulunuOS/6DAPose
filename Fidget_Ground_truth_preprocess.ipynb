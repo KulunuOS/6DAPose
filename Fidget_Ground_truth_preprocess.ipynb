{
 "cells": [
  {
   "cell_type": "code",
   "execution_count": 2,
   "id": "8582d56b",
   "metadata": {},
   "outputs": [
    {
     "name": "stdout",
     "output_type": "stream",
     "text": [
      "Jupyter environment detected. Enabling Open3D WebVisualizer.\n",
      "[Open3D INFO] WebRTC GUI backend enabled.\n",
      "[Open3D INFO] WebRTCWindowSystem: HTTP handshake server disabled.\n"
     ]
    }
   ],
   "source": [
    "import matplotlib.pyplot as plt\n",
    "import cv2\n",
    "import open3d as o3d\n",
    "#from open3d.web_visualizer import draw\n",
    "from scipy.spatial.transform import Rotation as Rot\n",
    "import numpy as np\n",
    "import os\n",
    "from bop_toolkit_lib import config\n",
    "from bop_toolkit_lib import dataset_params\n",
    "from bop_toolkit_lib import inout\n",
    "from bop_toolkit_lib import misc\n",
    "import copy"
   ]
  },
  {
   "cell_type": "code",
   "execution_count": 3,
   "id": "ee58eacd",
   "metadata": {},
   "outputs": [
    {
     "name": "stdout",
     "output_type": "stream",
     "text": [
      "fidget_dataset/model_meshes/left_gear.ply\n",
      "fidget_dataset/model_meshes/table1.ply\n",
      "fidget_dataset/model_meshes/right_gear.ply\n",
      "fidget_dataset/model_meshes/stage_2.ply\n",
      "fidget_dataset/model_meshes/stage_1.ply\n",
      "fidget_dataset/model_meshes/stage_3.ply\n",
      "fidget_dataset/model_meshes/stage_4.ply\n",
      "fidget_dataset/model_meshes/top_casing.ply\n",
      "fidget_dataset/model_meshes/bottom_casing.ply\n",
      "{'left_gear.ply': TriangleMesh with 9082 points and 18164 triangles., 'table1.ply': TriangleMesh with 19496 points and 39204 triangles., 'right_gear.ply': TriangleMesh with 12962 points and 25924 triangles., 'stage_2.ply': TriangleMesh with 11302 points and 22598 triangles., 'stage_1.ply': TriangleMesh with 2220 points and 4434 triangles., 'stage_3.ply': TriangleMesh with 24264 points and 48522 triangles., 'stage_4.ply': TriangleMesh with 25396 points and 50782 triangles., 'top_casing.ply': TriangleMesh with 1132 points and 2260 triangles., 'bottom_casing.ply': TriangleMesh with 2220 points and 4434 triangles.}\n"
     ]
    }
   ],
   "source": [
    "dataset = \"fidget_dataset\"\n",
    "mesh_directory = dataset+'/model_meshes'\n",
    "mesh_list = {}\n",
    "mesh_path_list =[]\n",
    "\n",
    "for filename in os.listdir(mesh_directory):\n",
    "    f = os.path.join(mesh_directory, filename)\n",
    "    mesh_path_list.append(f)\n",
    "    mesh = o3d.io.read_triangle_mesh(f)\n",
    "    mesh_list[str(os.path.basename(f))]= mesh\n",
    "    # checking if it is a file\n",
    "    if os.path.isfile(f):\n",
    "        print(f)\n",
    "\n",
    "print(mesh_list)\n",
    "\n",
    "assembling_order = ['bottom_casing.ply','left_gear.ply','right_gear.ply','top_casing.ply']\n",
    "#mesh = o3d.io.read_triangle_mesh(\"top_casing.ply\")"
   ]
  },
  {
   "cell_type": "code",
   "execution_count": 4,
   "id": "eb37a06c",
   "metadata": {},
   "outputs": [],
   "source": [
    "# Create the assembly\n",
    "base_frame = o3d.geometry.TriangleMesh.create_coordinate_frame(size=0.01, origin=[0, 0, 0])\n",
    "transformations = {}\n",
    "\n",
    "def adjust_mesh(name,color,R=[0,0,0],t=[0,0,0]):\n",
    "    mesh = mesh_list[name]\n",
    "    T_or = Rot.from_euler('zyx',R).as_matrix()\n",
    "    T_pos = np.array(t).reshape(3,1)\n",
    "    T= np.concatenate((T_or, T_pos), axis = 1) \n",
    "    T= np.vstack((T, [0,0,0,1] ))\n",
    "    transformations[name] = T\n",
    "    mesh.transform(T)\n",
    "    mesh.paint_uniform_color(color)\n",
    "    \n",
    "    return mesh\n",
    "\n",
    "bottom_casing = adjust_mesh(name='bottom_casing.ply', color=[0.561, 0.522, 0.255])\n",
    "left_gear  = adjust_mesh(name='left_gear.ply', color=[0.561, 0.522, 0.255],t=[0.0115,0,0.005])\n",
    "right_gear = adjust_mesh(name='right_gear.ply',color=[0.561, 0.522, 0.255],t=[-0.0115,0,0.005])\n",
    "top_casing = adjust_mesh(name='top_casing.ply',color=[0.561, 0.522, 0.255],R =[0.0, 0.0, 3.14],t=[0.00, 0,0.012])\n",
    "\n",
    "\n",
    "o3d.visualization.draw_geometries([bottom_casing, left_gear],mesh_show_wireframe=True)\n",
    "#o3d.visualization.draw_geometries([bottom_casing, top_casing,left_gear, right_gear,base_frame],mesh_show_wireframe=True)\n"
   ]
  },
  {
   "cell_type": "code",
   "execution_count": 6,
   "id": "7db69ab6",
   "metadata": {},
   "outputs": [],
   "source": [
    "# generate intermediate assembly states and save them as mesh files\n",
    "cm_1 = bottom_casing + left_gear\n",
    "#o3d.io.write_triangle_mesh(mesh_directory+\"/stage_2.ply\", cm_1)\n",
    "\n",
    "cm_2 = cm_1 + right_gear\n",
    "#o3d.io.write_triangle_mesh(mesh_directory+\"/stage_3.ply\", cm_2)\n",
    "\n",
    "cm_3 = cm_2 + top_casing\n",
    "#o3d.io.write_triangle_mesh(mesh_directory+\"/stage_4.ply\", cm_3)\n",
    "\n",
    "o3d.visualization.draw_geometries([bottom_casing], mesh_show_wireframe=True)"
   ]
  },
  {
   "cell_type": "code",
   "execution_count": null,
   "id": "4bf2e587",
   "metadata": {},
   "outputs": [],
   "source": [
    "# generate assembly_poses_gt.json\n",
    "import json\n",
    "with open(\"gt_assembly_poses.json\", \"w\") as outfile:\n",
    "    assembly_poses ={}\n",
    "    for i, name in enumerate(assembling_order):\n",
    "        obj_data = {\n",
    "        \"obj_id\" : i,\n",
    "        \"obj_name\": name,    \n",
    "        \"R_wrt_bottom_casing\" : np.ravel(np.reshape(transformations[name][0:3,0:3],(1,9))).tolist(),\n",
    "        \"t_wrt_bottom_casing\" : (transformations[name][0:3,3]*1000).tolist()\n",
    "        }\n",
    "        assembly_poses[i]= obj_data\n",
    "    json.dump(assembly_poses, outfile)\n",
    "    \n",
    "#print(assembly_poses)"
   ]
  },
  {
   "cell_type": "code",
   "execution_count": null,
   "id": "81e2b5c7",
   "metadata": {},
   "outputs": [],
   "source": [
    "models_info = {}\n",
    "for obj_id, name in enumerate(assembling_order):\n",
    "    \n",
    "    misc.log('Processing model of object {}...'.format(name))\n",
    "    \n",
    "    model = inout.load_ply(mesh_directory+'/'+name)\n",
    "    ref_pt = model['pts'].min(axis=0).flatten()\n",
    "    size =(model['pts'].max(axis=0) - ref_pt)\n",
    "\n",
    "    # Calculated diameter.\n",
    "    diameter = misc.calc_pts_diameter(model['pts'])\n",
    "\n",
    "    models_info[obj_id] = {\n",
    "        'min_x': ref_pt[0], 'min_y': ref_pt[1], 'min_z': ref_pt[2],\n",
    "        'size_x': size[0], 'size_y': size[1], 'size_z': size[2],\n",
    "        'diameter': diameter\n",
    "    }\n",
    "\n",
    "\n",
    "# Save the calculated info about the object models.\n",
    "inout.save_json(dataset+'/models_info.json', models_info)"
   ]
  },
  {
   "cell_type": "code",
   "execution_count": null,
   "id": "4d7c7b06",
   "metadata": {},
   "outputs": [],
   "source": [
    "print(models_info)"
   ]
  },
  {
   "cell_type": "code",
   "execution_count": null,
   "id": "92708c74",
   "metadata": {},
   "outputs": [],
   "source": [
    "trans = misc.get_symmetry_transformations(models_info[0], max(15, models_info[0]['diameter']))"
   ]
  },
  {
   "cell_type": "code",
   "execution_count": null,
   "id": "cc267ac8",
   "metadata": {},
   "outputs": [],
   "source": [
    "print(trans)"
   ]
  },
  {
   "cell_type": "code",
   "execution_count": null,
   "id": "01525c7b",
   "metadata": {},
   "outputs": [],
   "source": []
  }
 ],
 "metadata": {
  "kernelspec": {
   "display_name": "singledemo",
   "language": "python",
   "name": "singledemo"
  },
  "language_info": {
   "codemirror_mode": {
    "name": "ipython",
    "version": 3
   },
   "file_extension": ".py",
   "mimetype": "text/x-python",
   "name": "python",
   "nbconvert_exporter": "python",
   "pygments_lexer": "ipython3",
   "version": "3.8.13"
  }
 },
 "nbformat": 4,
 "nbformat_minor": 5
}
